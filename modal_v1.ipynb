{
 "cells": [
  {
   "cell_type": "code",
   "execution_count": 1,
   "id": "9796c4a6-0353-43e7-88e8-7498e7405549",
   "metadata": {},
   "outputs": [],
   "source": [
    "from pyiron_base import Project, job"
   ]
  },
  {
   "cell_type": "code",
   "execution_count": 2,
   "id": "e999fe7e-99b8-43e1-a366-f57268bb660b",
   "metadata": {},
   "outputs": [
    {
     "data": {
      "application/vnd.jupyter.widget-view+json": {
       "model_id": "04fa612a693e4946b9fcddb0d973d58b",
       "version_major": 2,
       "version_minor": 0
      },
      "text/plain": [
       "0it [00:00, ?it/s]"
      ]
     },
     "metadata": {},
     "output_type": "display_data"
    }
   ],
   "source": [
    "pr = Project(\"test\")\n",
    "pr.remove_jobs(recursive=True, silently=True)"
   ]
  },
  {
   "cell_type": "code",
   "execution_count": 3,
   "id": "6b4b2594-e506-45af-a1b6-08204c8ab117",
   "metadata": {},
   "outputs": [],
   "source": [
    "@job\n",
    "def add(x, y):\n",
    "    return sum([x, y])"
   ]
  },
  {
   "cell_type": "code",
   "execution_count": 4,
   "id": "ea13eabe-259b-4586-8e11-4113c05fee17",
   "metadata": {},
   "outputs": [],
   "source": [
    "job = add(x=1, y=3, pyiron_project=pr)"
   ]
  },
  {
   "cell_type": "code",
   "execution_count": 5,
   "id": "a410072e-e081-4caa-bc99-64b06797adcc",
   "metadata": {},
   "outputs": [
    {
     "data": {
      "text/plain": [
       "{'x': 1, 'y': 3}"
      ]
     },
     "execution_count": 5,
     "metadata": {},
     "output_type": "execute_result"
    }
   ],
   "source": [
    "job.input"
   ]
  },
  {
   "cell_type": "code",
   "execution_count": 6,
   "id": "5c76b81b-7285-4729-905f-289aa5dc0974",
   "metadata": {},
   "outputs": [
    {
     "data": {
      "text/plain": [
       "'modal'"
      ]
     },
     "execution_count": 6,
     "metadata": {},
     "output_type": "execute_result"
    }
   ],
   "source": [
    "job.server.run_mode"
   ]
  },
  {
   "cell_type": "code",
   "execution_count": 7,
   "id": "e3b2d21e-3376-4c71-ac31-4e54e8efc1f7",
   "metadata": {},
   "outputs": [
    {
     "name": "stdout",
     "output_type": "stream",
     "text": [
      "The job add_6620a6d34029e297cf19fce7437848e8 was saved and received the ID: 91\n"
     ]
    },
    {
     "data": {
      "text/plain": [
       "4"
      ]
     },
     "execution_count": 7,
     "metadata": {},
     "output_type": "execute_result"
    }
   ],
   "source": [
    "job.pull()"
   ]
  },
  {
   "cell_type": "code",
   "execution_count": 8,
   "id": "868de826-d92f-4ff5-8ef6-b819eda8ed6b",
   "metadata": {},
   "outputs": [
    {
     "data": {
      "text/html": [
       "<div>\n",
       "<style scoped>\n",
       "    .dataframe tbody tr th:only-of-type {\n",
       "        vertical-align: middle;\n",
       "    }\n",
       "\n",
       "    .dataframe tbody tr th {\n",
       "        vertical-align: top;\n",
       "    }\n",
       "\n",
       "    .dataframe thead th {\n",
       "        text-align: right;\n",
       "    }\n",
       "</style>\n",
       "<table border=\"1\" class=\"dataframe\">\n",
       "  <thead>\n",
       "    <tr style=\"text-align: right;\">\n",
       "      <th></th>\n",
       "      <th>id</th>\n",
       "      <th>status</th>\n",
       "      <th>chemicalformula</th>\n",
       "      <th>job</th>\n",
       "      <th>subjob</th>\n",
       "      <th>projectpath</th>\n",
       "      <th>project</th>\n",
       "      <th>timestart</th>\n",
       "      <th>timestop</th>\n",
       "      <th>totalcputime</th>\n",
       "      <th>computer</th>\n",
       "      <th>hamilton</th>\n",
       "      <th>hamversion</th>\n",
       "      <th>parentid</th>\n",
       "      <th>masterid</th>\n",
       "    </tr>\n",
       "  </thead>\n",
       "  <tbody>\n",
       "    <tr>\n",
       "      <th>0</th>\n",
       "      <td>91</td>\n",
       "      <td>finished</td>\n",
       "      <td>None</td>\n",
       "      <td>add_6620a6d34029e297cf19fce7437848e8</td>\n",
       "      <td>/add_6620a6d34029e297cf19fce7437848e8</td>\n",
       "      <td>None</td>\n",
       "      <td>/Users/jan/notebooks/2025/2025-08-03-pyiron-base-job-non-modal/test/</td>\n",
       "      <td>2025-08-03 17:39:43.667183</td>\n",
       "      <td>None</td>\n",
       "      <td>None</td>\n",
       "      <td>pyiron@MacBook-Pro.local#1</td>\n",
       "      <td>PythonFunctionContainerJob</td>\n",
       "      <td>0.4</td>\n",
       "      <td>None</td>\n",
       "      <td>None</td>\n",
       "    </tr>\n",
       "  </tbody>\n",
       "</table>\n",
       "</div>"
      ],
      "text/plain": [
       "   id    status chemicalformula                                   job  \\\n",
       "0  91  finished            None  add_6620a6d34029e297cf19fce7437848e8   \n",
       "\n",
       "                                  subjob projectpath  \\\n",
       "0  /add_6620a6d34029e297cf19fce7437848e8        None   \n",
       "\n",
       "                                                                project  \\\n",
       "0  /Users/jan/notebooks/2025/2025-08-03-pyiron-base-job-non-modal/test/   \n",
       "\n",
       "                   timestart timestop totalcputime  \\\n",
       "0 2025-08-03 17:39:43.667183     None         None   \n",
       "\n",
       "                     computer                    hamilton hamversion parentid  \\\n",
       "0  pyiron@MacBook-Pro.local#1  PythonFunctionContainerJob        0.4     None   \n",
       "\n",
       "  masterid  \n",
       "0     None  "
      ]
     },
     "execution_count": 8,
     "metadata": {},
     "output_type": "execute_result"
    }
   ],
   "source": [
    "pr.job_table()"
   ]
  },
  {
   "cell_type": "code",
   "execution_count": null,
   "id": "3115344c-239c-45e2-9ac0-34649a9e9c7a",
   "metadata": {},
   "outputs": [],
   "source": []
  }
 ],
 "metadata": {
  "kernelspec": {
   "display_name": "Python 3 (ipykernel)",
   "language": "python",
   "name": "python3"
  },
  "language_info": {
   "codemirror_mode": {
    "name": "ipython",
    "version": 3
   },
   "file_extension": ".py",
   "mimetype": "text/x-python",
   "name": "python",
   "nbconvert_exporter": "python",
   "pygments_lexer": "ipython3",
   "version": "3.12.10"
  }
 },
 "nbformat": 4,
 "nbformat_minor": 5
}
