{
 "cells": [
  {
   "cell_type": "code",
   "execution_count": 1,
   "id": "9796c4a6-0353-43e7-88e8-7498e7405549",
   "metadata": {},
   "outputs": [],
   "source": [
    "from pyiron_base import Project, job"
   ]
  },
  {
   "cell_type": "code",
   "execution_count": 2,
   "id": "e999fe7e-99b8-43e1-a366-f57268bb660b",
   "metadata": {},
   "outputs": [
    {
     "data": {
      "application/vnd.jupyter.widget-view+json": {
       "model_id": "b01844b619f34c3ca3ea56d221ef28f4",
       "version_major": 2,
       "version_minor": 0
      },
      "text/plain": [
       "  0%|          | 0/1 [00:00<?, ?it/s]"
      ]
     },
     "metadata": {},
     "output_type": "display_data"
    }
   ],
   "source": [
    "pr = Project(\"test\")\n",
    "pr.remove_jobs(recursive=True, silently=True)"
   ]
  },
  {
   "cell_type": "code",
   "execution_count": 3,
   "id": "6b4b2594-e506-45af-a1b6-08204c8ab117",
   "metadata": {},
   "outputs": [],
   "source": [
    "@job\n",
    "def add(x, y):\n",
    "    return sum([x, y])"
   ]
  },
  {
   "cell_type": "code",
   "execution_count": 4,
   "id": "ea13eabe-259b-4586-8e11-4113c05fee17",
   "metadata": {},
   "outputs": [],
   "source": [
    "job = add(x=1, y=3, pyiron_project=pr)"
   ]
  },
  {
   "cell_type": "code",
   "execution_count": 5,
   "id": "a410072e-e081-4caa-bc99-64b06797adcc",
   "metadata": {},
   "outputs": [
    {
     "data": {
      "text/plain": [
       "{'x': 1, 'y': 3}"
      ]
     },
     "execution_count": 5,
     "metadata": {},
     "output_type": "execute_result"
    }
   ],
   "source": [
    "job.input"
   ]
  },
  {
   "cell_type": "code",
   "execution_count": 6,
   "id": "5c76b81b-7285-4729-905f-289aa5dc0974",
   "metadata": {},
   "outputs": [],
   "source": [
    "job.server.run_mode.non_modal = True"
   ]
  },
  {
   "cell_type": "code",
   "execution_count": 7,
   "id": "e3b2d21e-3376-4c71-ac31-4e54e8efc1f7",
   "metadata": {},
   "outputs": [
    {
     "name": "stdout",
     "output_type": "stream",
     "text": [
      "The job add_6620a6d34029e297cf19fce7437848e8 was saved and received the ID: 90\n"
     ]
    }
   ],
   "source": [
    "future = job.pull()"
   ]
  },
  {
   "cell_type": "code",
   "execution_count": 10,
   "id": "868de826-d92f-4ff5-8ef6-b819eda8ed6b",
   "metadata": {},
   "outputs": [
    {
     "data": {
      "text/html": [
       "<div>\n",
       "<style scoped>\n",
       "    .dataframe tbody tr th:only-of-type {\n",
       "        vertical-align: middle;\n",
       "    }\n",
       "\n",
       "    .dataframe tbody tr th {\n",
       "        vertical-align: top;\n",
       "    }\n",
       "\n",
       "    .dataframe thead th {\n",
       "        text-align: right;\n",
       "    }\n",
       "</style>\n",
       "<table border=\"1\" class=\"dataframe\">\n",
       "  <thead>\n",
       "    <tr style=\"text-align: right;\">\n",
       "      <th></th>\n",
       "      <th>id</th>\n",
       "      <th>status</th>\n",
       "      <th>chemicalformula</th>\n",
       "      <th>job</th>\n",
       "      <th>subjob</th>\n",
       "      <th>projectpath</th>\n",
       "      <th>project</th>\n",
       "      <th>timestart</th>\n",
       "      <th>timestop</th>\n",
       "      <th>totalcputime</th>\n",
       "      <th>computer</th>\n",
       "      <th>hamilton</th>\n",
       "      <th>hamversion</th>\n",
       "      <th>parentid</th>\n",
       "      <th>masterid</th>\n",
       "    </tr>\n",
       "  </thead>\n",
       "  <tbody>\n",
       "    <tr>\n",
       "      <th>0</th>\n",
       "      <td>90</td>\n",
       "      <td>finished</td>\n",
       "      <td>None</td>\n",
       "      <td>add_6620a6d34029e297cf19fce7437848e8</td>\n",
       "      <td>/add_6620a6d34029e297cf19fce7437848e8</td>\n",
       "      <td>None</td>\n",
       "      <td>/Users/jan/notebooks/2025/2025-08-03-pyiron-base-job-non-modal/test/</td>\n",
       "      <td>2025-08-03 17:43:18.408617</td>\n",
       "      <td>None</td>\n",
       "      <td>None</td>\n",
       "      <td>pyiron@MacBook-Pro.local#1</td>\n",
       "      <td>PythonFunctionContainerJob</td>\n",
       "      <td>0.4</td>\n",
       "      <td>None</td>\n",
       "      <td>None</td>\n",
       "    </tr>\n",
       "  </tbody>\n",
       "</table>\n",
       "</div>"
      ],
      "text/plain": [
       "   id    status chemicalformula                                   job  \\\n",
       "0  90  finished            None  add_6620a6d34029e297cf19fce7437848e8   \n",
       "\n",
       "                                  subjob projectpath  \\\n",
       "0  /add_6620a6d34029e297cf19fce7437848e8        None   \n",
       "\n",
       "                                                                project  \\\n",
       "0  /Users/jan/notebooks/2025/2025-08-03-pyiron-base-job-non-modal/test/   \n",
       "\n",
       "                   timestart timestop totalcputime  \\\n",
       "0 2025-08-03 17:43:18.408617     None         None   \n",
       "\n",
       "                     computer                    hamilton hamversion parentid  \\\n",
       "0  pyiron@MacBook-Pro.local#1  PythonFunctionContainerJob        0.4     None   \n",
       "\n",
       "  masterid  \n",
       "0     None  "
      ]
     },
     "execution_count": 10,
     "metadata": {},
     "output_type": "execute_result"
    }
   ],
   "source": [
    "pr.job_table()"
   ]
  },
  {
   "cell_type": "code",
   "execution_count": 9,
   "id": "d8cca91e-a099-42bc-a936-64cf66debfab",
   "metadata": {},
   "outputs": [
    {
     "ename": "KeyboardInterrupt",
     "evalue": "",
     "output_type": "error",
     "traceback": [
      "\u001b[31m---------------------------------------------------------------------------\u001b[39m",
      "\u001b[31mKeyboardInterrupt\u001b[39m                         Traceback (most recent call last)",
      "\u001b[36mCell\u001b[39m\u001b[36m \u001b[39m\u001b[32mIn[9]\u001b[39m\u001b[32m, line 1\u001b[39m\n\u001b[32m----> \u001b[39m\u001b[32m1\u001b[39m \u001b[43mpr\u001b[49m\u001b[43m.\u001b[49m\u001b[43mwait_for_jobs\u001b[49m\u001b[43m(\u001b[49m\u001b[43m)\u001b[49m\n",
      "\u001b[36mFile \u001b[39m\u001b[32m~/projects/pyiron_base/pyiron_base/project/generic.py:1785\u001b[39m, in \u001b[36mProject.wait_for_jobs\u001b[39m\u001b[34m(self, interval_in_s, max_iterations, recursive, ignore_exceptions)\u001b[39m\n\u001b[32m   1766\u001b[39m \u001b[38;5;28;01mdef\u001b[39;00m\u001b[38;5;250m \u001b[39m\u001b[34mwait_for_jobs\u001b[39m(\n\u001b[32m   1767\u001b[39m     \u001b[38;5;28mself\u001b[39m,\n\u001b[32m   1768\u001b[39m     interval_in_s: \u001b[38;5;28mint\u001b[39m = \u001b[32m5\u001b[39m,\n\u001b[32m   (...)\u001b[39m\u001b[32m   1771\u001b[39m     ignore_exceptions: \u001b[38;5;28mbool\u001b[39m = \u001b[38;5;28;01mFalse\u001b[39;00m,\n\u001b[32m   1772\u001b[39m ) -> \u001b[38;5;28;01mNone\u001b[39;00m:\n\u001b[32m   1773\u001b[39m \u001b[38;5;250m    \u001b[39m\u001b[33;03m\"\"\"\u001b[39;00m\n\u001b[32m   1774\u001b[39m \u001b[33;03m    Wait for the calculation in the project to be finished\u001b[39;00m\n\u001b[32m   1775\u001b[39m \n\u001b[32m   (...)\u001b[39m\u001b[32m   1783\u001b[39m \u001b[33;03m        ValueError: max_iterations reached, but jobs still running\u001b[39;00m\n\u001b[32m   1784\u001b[39m \u001b[33;03m    \"\"\"\u001b[39;00m\n\u001b[32m-> \u001b[39m\u001b[32m1785\u001b[39m     \u001b[43mwait_for_jobs\u001b[49m\u001b[43m(\u001b[49m\n\u001b[32m   1786\u001b[39m \u001b[43m        \u001b[49m\u001b[43mproject\u001b[49m\u001b[43m=\u001b[49m\u001b[38;5;28;43mself\u001b[39;49m\u001b[43m,\u001b[49m\n\u001b[32m   1787\u001b[39m \u001b[43m        \u001b[49m\u001b[43minterval_in_s\u001b[49m\u001b[43m=\u001b[49m\u001b[43minterval_in_s\u001b[49m\u001b[43m,\u001b[49m\n\u001b[32m   1788\u001b[39m \u001b[43m        \u001b[49m\u001b[43mmax_iterations\u001b[49m\u001b[43m=\u001b[49m\u001b[43mmax_iterations\u001b[49m\u001b[43m,\u001b[49m\n\u001b[32m   1789\u001b[39m \u001b[43m        \u001b[49m\u001b[43mrecursive\u001b[49m\u001b[43m=\u001b[49m\u001b[43mrecursive\u001b[49m\u001b[43m,\u001b[49m\n\u001b[32m   1790\u001b[39m \u001b[43m        \u001b[49m\u001b[43mignore_exceptions\u001b[49m\u001b[43m=\u001b[49m\u001b[43mignore_exceptions\u001b[49m\u001b[43m,\u001b[49m\n\u001b[32m   1791\u001b[39m \u001b[43m    \u001b[49m\u001b[43m)\u001b[49m\n",
      "\u001b[36mFile \u001b[39m\u001b[32m~/projects/pyiron_base/pyiron_base/jobs/job/extension/server/queuestatus.py:287\u001b[39m, in \u001b[36mwait_for_jobs\u001b[39m\u001b[34m(project, interval_in_s, max_iterations, recursive, ignore_exceptions, try_collecting)\u001b[39m\n\u001b[32m    285\u001b[39m finished = \u001b[38;5;28;01mFalse\u001b[39;00m\n\u001b[32m    286\u001b[39m \u001b[38;5;28;01mfor\u001b[39;00m _ \u001b[38;5;129;01min\u001b[39;00m \u001b[38;5;28mrange\u001b[39m(max_iterations):\n\u001b[32m--> \u001b[39m\u001b[32m287\u001b[39m     \u001b[43mproject\u001b[49m\u001b[43m.\u001b[49m\u001b[43mupdate_from_remote\u001b[49m\u001b[43m(\u001b[49m\u001b[43mrecursive\u001b[49m\u001b[43m=\u001b[49m\u001b[38;5;28;43;01mTrue\u001b[39;49;00m\u001b[43m,\u001b[49m\u001b[43m \u001b[49m\u001b[43mignore_exceptions\u001b[49m\u001b[43m=\u001b[49m\u001b[43mignore_exceptions\u001b[49m\u001b[43m)\u001b[49m\n\u001b[32m    288\u001b[39m     project.refresh_job_status()\n\u001b[32m    289\u001b[39m     df = project.job_table(recursive=recursive)\n",
      "\u001b[36mFile \u001b[39m\u001b[32m~/projects/pyiron_base/pyiron_base/project/generic.py:1004\u001b[39m, in \u001b[36mProject.update_from_remote\u001b[39m\u001b[34m(self, recursive, ignore_exceptions, try_collecting)\u001b[39m\n\u001b[32m    986\u001b[39m \u001b[38;5;28;01mdef\u001b[39;00m\u001b[38;5;250m \u001b[39m\u001b[34mupdate_from_remote\u001b[39m(\n\u001b[32m    987\u001b[39m     \u001b[38;5;28mself\u001b[39m,\n\u001b[32m    988\u001b[39m     recursive: \u001b[38;5;28mbool\u001b[39m = \u001b[38;5;28;01mTrue\u001b[39;00m,\n\u001b[32m    989\u001b[39m     ignore_exceptions: \u001b[38;5;28mbool\u001b[39m = \u001b[38;5;28;01mFalse\u001b[39;00m,\n\u001b[32m    990\u001b[39m     try_collecting: \u001b[38;5;28mbool\u001b[39m = \u001b[38;5;28;01mFalse\u001b[39;00m,\n\u001b[32m    991\u001b[39m ):\n\u001b[32m    992\u001b[39m \u001b[38;5;250m    \u001b[39m\u001b[33;03m\"\"\"\u001b[39;00m\n\u001b[32m    993\u001b[39m \u001b[33;03m    Update jobs from the remote server\u001b[39;00m\n\u001b[32m    994\u001b[39m \n\u001b[32m   (...)\u001b[39m\u001b[32m   1002\u001b[39m \n\u001b[32m   1003\u001b[39m \u001b[33;03m    \"\"\"\u001b[39;00m\n\u001b[32m-> \u001b[39m\u001b[32m1004\u001b[39m     \u001b[38;5;28;01mreturn\u001b[39;00m \u001b[43mupdate_from_remote\u001b[49m\u001b[43m(\u001b[49m\n\u001b[32m   1005\u001b[39m \u001b[43m        \u001b[49m\u001b[43mproject\u001b[49m\u001b[43m=\u001b[49m\u001b[38;5;28;43mself\u001b[39;49m\u001b[43m,\u001b[49m\n\u001b[32m   1006\u001b[39m \u001b[43m        \u001b[49m\u001b[43mrecursive\u001b[49m\u001b[43m=\u001b[49m\u001b[43mrecursive\u001b[49m\u001b[43m,\u001b[49m\n\u001b[32m   1007\u001b[39m \u001b[43m        \u001b[49m\u001b[43mignore_exceptions\u001b[49m\u001b[43m=\u001b[49m\u001b[43mignore_exceptions\u001b[49m\u001b[43m,\u001b[49m\n\u001b[32m   1008\u001b[39m \u001b[43m        \u001b[49m\u001b[43mtry_collecting\u001b[49m\u001b[43m=\u001b[49m\u001b[43mtry_collecting\u001b[49m\u001b[43m,\u001b[49m\n\u001b[32m   1009\u001b[39m \u001b[43m    \u001b[49m\u001b[43m)\u001b[49m\n",
      "\u001b[36mFile \u001b[39m\u001b[32m~/projects/pyiron_base/pyiron_base/jobs/job/extension/server/queuestatus.py:321\u001b[39m, in \u001b[36mupdate_from_remote\u001b[39m\u001b[34m(project, recursive, ignore_exceptions, try_collecting)\u001b[39m\n\u001b[32m    319\u001b[39m df_submitted = df_project[df_project.status == \u001b[33m\"\u001b[39m\u001b[33msubmitted\u001b[39m\u001b[33m\"\u001b[39m]\n\u001b[32m    320\u001b[39m df_combined = df_project[df_project.status.isin([\u001b[33m\"\u001b[39m\u001b[33mrunning\u001b[39m\u001b[33m\"\u001b[39m, \u001b[33m\"\u001b[39m\u001b[33msubmitted\u001b[39m\u001b[33m\"\u001b[39m])]\n\u001b[32m--> \u001b[39m\u001b[32m321\u001b[39m df_queue = \u001b[43mstate\u001b[49m\u001b[43m.\u001b[49m\u001b[43mqueue_adapter\u001b[49m\u001b[43m.\u001b[49m\u001b[43mget_status_of_my_jobs\u001b[49m\u001b[43m(\u001b[49m\u001b[43m)\u001b[49m\n\u001b[32m    322\u001b[39m \u001b[38;5;28;01mif\u001b[39;00m (\n\u001b[32m    323\u001b[39m     \u001b[38;5;28mlen\u001b[39m(df_queue) > \u001b[32m0\u001b[39m\n\u001b[32m    324\u001b[39m     \u001b[38;5;129;01mand\u001b[39;00m \u001b[38;5;28mlen\u001b[39m(df_queue[df_queue.jobname.str.contains(QUEUE_SCRIPT_PREFIX)]) > \u001b[32m0\u001b[39m\n\u001b[32m    325\u001b[39m ):\n\u001b[32m    326\u001b[39m     df_queue = df_queue[df_queue.jobname.str.contains(QUEUE_SCRIPT_PREFIX)]\n",
      "\u001b[36mFile \u001b[39m\u001b[32m~/mambaforge/lib/python3.12/site-packages/pysqa/queueadapter.py:327\u001b[39m, in \u001b[36mQueueAdapter.get_status_of_my_jobs\u001b[39m\u001b[34m(self)\u001b[39m\n\u001b[32m    320\u001b[39m \u001b[38;5;28;01mdef\u001b[39;00m\u001b[38;5;250m \u001b[39m\u001b[34mget_status_of_my_jobs\u001b[39m(\u001b[38;5;28mself\u001b[39m) -> pandas.DataFrame:\n\u001b[32m    321\u001b[39m \u001b[38;5;250m    \u001b[39m\u001b[33;03m\"\"\"\u001b[39;00m\n\u001b[32m    322\u001b[39m \u001b[33;03m    Get the status of the user's jobs.\u001b[39;00m\n\u001b[32m    323\u001b[39m \n\u001b[32m    324\u001b[39m \u001b[33;03m    Returns:\u001b[39;00m\n\u001b[32m    325\u001b[39m \u001b[33;03m       pandas.DataFrame: The status of the user's jobs.\u001b[39;00m\n\u001b[32m    326\u001b[39m \u001b[33;03m    \"\"\"\u001b[39;00m\n\u001b[32m--> \u001b[39m\u001b[32m327\u001b[39m     \u001b[38;5;28;01mreturn\u001b[39;00m \u001b[38;5;28;43mself\u001b[39;49m\u001b[43m.\u001b[49m\u001b[43m_adapter\u001b[49m\u001b[43m.\u001b[49m\u001b[43mget_status_of_my_jobs\u001b[49m\u001b[43m(\u001b[49m\u001b[43m)\u001b[49m\n",
      "\u001b[36mFile \u001b[39m\u001b[32m~/mambaforge/lib/python3.12/site-packages/pysqa/base/core.py:260\u001b[39m, in \u001b[36mQueueAdapterCore.get_status_of_my_jobs\u001b[39m\u001b[34m(self)\u001b[39m\n\u001b[32m    253\u001b[39m \u001b[38;5;28;01mdef\u001b[39;00m\u001b[38;5;250m \u001b[39m\u001b[34mget_status_of_my_jobs\u001b[39m(\u001b[38;5;28mself\u001b[39m) -> pandas.DataFrame:\n\u001b[32m    254\u001b[39m \u001b[38;5;250m    \u001b[39m\u001b[33;03m\"\"\"\u001b[39;00m\n\u001b[32m    255\u001b[39m \u001b[33;03m    Get the status of the user's jobs.\u001b[39;00m\n\u001b[32m    256\u001b[39m \n\u001b[32m    257\u001b[39m \u001b[33;03m    Returns:\u001b[39;00m\n\u001b[32m    258\u001b[39m \u001b[33;03m        pandas.DataFrame: The status of the user's jobs.\u001b[39;00m\n\u001b[32m    259\u001b[39m \u001b[33;03m    \"\"\"\u001b[39;00m\n\u001b[32m--> \u001b[39m\u001b[32m260\u001b[39m     \u001b[38;5;28;01mreturn\u001b[39;00m \u001b[38;5;28;43mself\u001b[39;49m\u001b[43m.\u001b[49m\u001b[43mget_queue_status\u001b[49m\u001b[43m(\u001b[49m\u001b[43muser\u001b[49m\u001b[43m=\u001b[49m\u001b[38;5;28;43mself\u001b[39;49m\u001b[43m.\u001b[49m\u001b[43m_get_user\u001b[49m\u001b[43m(\u001b[49m\u001b[43m)\u001b[49m\u001b[43m)\u001b[49m\n",
      "\u001b[36mFile \u001b[39m\u001b[32m~/mambaforge/lib/python3.12/site-packages/pysqa/base/remote.py:216\u001b[39m, in \u001b[36mRemoteQueueAdapter.get_queue_status\u001b[39m\u001b[34m(self, user)\u001b[39m\n\u001b[32m    204\u001b[39m \u001b[38;5;28;01mdef\u001b[39;00m\u001b[38;5;250m \u001b[39m\u001b[34mget_queue_status\u001b[39m(\u001b[38;5;28mself\u001b[39m, user: Optional[\u001b[38;5;28mstr\u001b[39m] = \u001b[38;5;28;01mNone\u001b[39;00m) -> pandas.DataFrame:\n\u001b[32m    205\u001b[39m \u001b[38;5;250m    \u001b[39m\u001b[33;03m\"\"\"\u001b[39;00m\n\u001b[32m    206\u001b[39m \u001b[33;03m    Retrieves the queue status.\u001b[39;00m\n\u001b[32m    207\u001b[39m \n\u001b[32m   (...)\u001b[39m\u001b[32m    212\u001b[39m \u001b[33;03m        pandas.DataFrame: The queue status.\u001b[39;00m\n\u001b[32m    213\u001b[39m \u001b[33;03m    \"\"\"\u001b[39;00m\n\u001b[32m    214\u001b[39m     df = pandas.DataFrame(\n\u001b[32m    215\u001b[39m         json.loads(\n\u001b[32m--> \u001b[39m\u001b[32m216\u001b[39m             \u001b[38;5;28;43mself\u001b[39;49m\u001b[43m.\u001b[49m\u001b[43m_execute_remote_command\u001b[49m\u001b[43m(\u001b[49m\u001b[43mcommand\u001b[49m\u001b[43m=\u001b[49m\u001b[38;5;28;43mself\u001b[39;49m\u001b[43m.\u001b[49m\u001b[43m_get_queue_status_command\u001b[49m\u001b[43m(\u001b[49m\u001b[43m)\u001b[49m\u001b[43m)\u001b[49m\n\u001b[32m    217\u001b[39m         )\n\u001b[32m    218\u001b[39m     )\n\u001b[32m    219\u001b[39m     \u001b[38;5;28;01mif\u001b[39;00m user \u001b[38;5;129;01mis\u001b[39;00m \u001b[38;5;28;01mNone\u001b[39;00m:\n\u001b[32m    220\u001b[39m         \u001b[38;5;28;01mreturn\u001b[39;00m df\n",
      "\u001b[36mFile \u001b[39m\u001b[32m~/mambaforge/lib/python3.12/site-packages/pysqa/base/remote.py:552\u001b[39m, in \u001b[36mRemoteQueueAdapter._execute_remote_command\u001b[39m\u001b[34m(self, command)\u001b[39m\n\u001b[32m    542\u001b[39m \u001b[38;5;250m\u001b[39m\u001b[33;03m\"\"\"\u001b[39;00m\n\u001b[32m    543\u001b[39m \u001b[33;03mExecutes a remote command on the SSH connection.\u001b[39;00m\n\u001b[32m    544\u001b[39m \n\u001b[32m   (...)\u001b[39m\u001b[32m    549\u001b[39m \u001b[33;03m    str: The output of the command.\u001b[39;00m\n\u001b[32m    550\u001b[39m \u001b[33;03m\"\"\"\u001b[39;00m\n\u001b[32m    551\u001b[39m \u001b[38;5;28;01mif\u001b[39;00m \u001b[38;5;28mself\u001b[39m._ssh_continous_connection:\n\u001b[32m--> \u001b[39m\u001b[32m552\u001b[39m     \u001b[38;5;28;43mself\u001b[39;49m\u001b[43m.\u001b[49m\u001b[43m_check_ssh_connection\u001b[49m\u001b[43m(\u001b[49m\u001b[43m)\u001b[49m\n\u001b[32m    553\u001b[39m     ssh = \u001b[38;5;28mself\u001b[39m._ssh_connection\n\u001b[32m    554\u001b[39m \u001b[38;5;28;01melse\u001b[39;00m:\n",
      "\u001b[36mFile \u001b[39m\u001b[32m~/mambaforge/lib/python3.12/site-packages/pysqa/base/remote.py:298\u001b[39m, in \u001b[36mRemoteQueueAdapter._check_ssh_connection\u001b[39m\u001b[34m(self)\u001b[39m\n\u001b[32m    294\u001b[39m \u001b[38;5;250m\u001b[39m\u001b[33;03m\"\"\"\u001b[39;00m\n\u001b[32m    295\u001b[39m \u001b[33;03mChecks if an SSH connection is open.\u001b[39;00m\n\u001b[32m    296\u001b[39m \u001b[33;03m\"\"\"\u001b[39;00m\n\u001b[32m    297\u001b[39m \u001b[38;5;28;01mif\u001b[39;00m \u001b[38;5;28mself\u001b[39m._ssh_connection \u001b[38;5;129;01mis\u001b[39;00m \u001b[38;5;28;01mNone\u001b[39;00m:\n\u001b[32m--> \u001b[39m\u001b[32m298\u001b[39m     \u001b[38;5;28mself\u001b[39m._ssh_connection = \u001b[38;5;28;43mself\u001b[39;49m\u001b[43m.\u001b[49m\u001b[43m_open_ssh_connection\u001b[49m\u001b[43m(\u001b[49m\u001b[43m)\u001b[49m\n",
      "\u001b[36mFile \u001b[39m\u001b[32m~/mambaforge/lib/python3.12/site-packages/pysqa/base/remote.py:411\u001b[39m, in \u001b[36mRemoteQueueAdapter._open_ssh_connection\u001b[39m\u001b[34m(self)\u001b[39m\n\u001b[32m    403\u001b[39m     ssh._transport.auth_interactive(\n\u001b[32m    404\u001b[39m         username=\u001b[38;5;28mself\u001b[39m._ssh_username, handler=authentication, submethods=\u001b[33m\"\u001b[39m\u001b[33m\"\u001b[39m\n\u001b[32m    405\u001b[39m     )\n\u001b[32m    406\u001b[39m \u001b[38;5;28;01melif\u001b[39;00m (\n\u001b[32m    407\u001b[39m     \u001b[38;5;28mself\u001b[39m._ssh_password \u001b[38;5;129;01mis\u001b[39;00m \u001b[38;5;129;01mnot\u001b[39;00m \u001b[38;5;28;01mNone\u001b[39;00m\n\u001b[32m    408\u001b[39m     \u001b[38;5;129;01mand\u001b[39;00m \u001b[38;5;28mself\u001b[39m._ssh_authenticator_service \u001b[38;5;129;01mis\u001b[39;00m \u001b[38;5;28;01mNone\u001b[39;00m\n\u001b[32m    409\u001b[39m     \u001b[38;5;129;01mand\u001b[39;00m \u001b[38;5;28mself\u001b[39m._ssh_two_factor_authentication\n\u001b[32m    410\u001b[39m ):\n\u001b[32m--> \u001b[39m\u001b[32m411\u001b[39m     \u001b[43mssh\u001b[49m\u001b[43m.\u001b[49m\u001b[43mconnect\u001b[49m\u001b[43m(\u001b[49m\n\u001b[32m    412\u001b[39m \u001b[43m        \u001b[49m\u001b[43mhostname\u001b[49m\u001b[43m=\u001b[49m\u001b[38;5;28;43mself\u001b[39;49m\u001b[43m.\u001b[49m\u001b[43m_ssh_host\u001b[49m\u001b[43m,\u001b[49m\n\u001b[32m    413\u001b[39m \u001b[43m        \u001b[49m\u001b[43mport\u001b[49m\u001b[43m=\u001b[49m\u001b[38;5;28;43mself\u001b[39;49m\u001b[43m.\u001b[49m\u001b[43m_ssh_port\u001b[49m\u001b[43m,\u001b[49m\n\u001b[32m    414\u001b[39m \u001b[43m        \u001b[49m\u001b[43musername\u001b[49m\u001b[43m=\u001b[49m\u001b[38;5;28;43mself\u001b[39;49m\u001b[43m.\u001b[49m\u001b[43m_ssh_username\u001b[49m\u001b[43m,\u001b[49m\n\u001b[32m    415\u001b[39m \u001b[43m        \u001b[49m\u001b[43mpassword\u001b[49m\u001b[43m=\u001b[49m\u001b[38;5;28;43mself\u001b[39;49m\u001b[43m.\u001b[49m\u001b[43m_ssh_password\u001b[49m\u001b[43m,\u001b[49m\n\u001b[32m    416\u001b[39m \u001b[43m    \u001b[49m\u001b[43m)\u001b[49m\n\u001b[32m    417\u001b[39m     ssh._transport.auth_interactive_dumb(\n\u001b[32m    418\u001b[39m         username=\u001b[38;5;28mself\u001b[39m._ssh_username, handler=\u001b[38;5;28;01mNone\u001b[39;00m, submethods=\u001b[33m\"\u001b[39m\u001b[33m\"\u001b[39m\n\u001b[32m    419\u001b[39m     )\n\u001b[32m    420\u001b[39m \u001b[38;5;28;01melif\u001b[39;00m \u001b[38;5;28mself\u001b[39m._ssh_ask_for_password \u001b[38;5;129;01mand\u001b[39;00m \u001b[38;5;28mself\u001b[39m._ssh_two_factor_authentication:\n",
      "\u001b[36mFile \u001b[39m\u001b[32m~/mambaforge/lib/python3.12/site-packages/paramiko/client.py:386\u001b[39m, in \u001b[36mSSHClient.connect\u001b[39m\u001b[34m(self, hostname, port, username, password, pkey, key_filename, timeout, allow_agent, look_for_keys, compress, sock, gss_auth, gss_kex, gss_deleg_creds, gss_host, banner_timeout, auth_timeout, channel_timeout, gss_trust_dns, passphrase, disabled_algorithms, transport_factory, auth_strategy)\u001b[39m\n\u001b[32m    384\u001b[39m     \u001b[38;5;28;01mexcept\u001b[39;00m:\n\u001b[32m    385\u001b[39m         \u001b[38;5;28;01mpass\u001b[39;00m\n\u001b[32m--> \u001b[39m\u001b[32m386\u001b[39m \u001b[43msock\u001b[49m\u001b[43m.\u001b[49m\u001b[43mconnect\u001b[49m\u001b[43m(\u001b[49m\u001b[43maddr\u001b[49m\u001b[43m)\u001b[49m\n\u001b[32m    387\u001b[39m \u001b[38;5;66;03m# Break out of the loop on success\u001b[39;00m\n\u001b[32m    388\u001b[39m \u001b[38;5;28;01mbreak\u001b[39;00m\n",
      "\u001b[31mKeyboardInterrupt\u001b[39m: "
     ]
    }
   ],
   "source": [
    "pr.wait_for_jobs()"
   ]
  },
  {
   "cell_type": "code",
   "execution_count": null,
   "id": "3115344c-239c-45e2-9ac0-34649a9e9c7a",
   "metadata": {},
   "outputs": [],
   "source": [
    "future.result()"
   ]
  },
  {
   "cell_type": "code",
   "execution_count": null,
   "id": "6cdee887-447a-4725-be1a-199ff6fdff08",
   "metadata": {},
   "outputs": [],
   "source": [
    "pr.job_table()"
   ]
  }
 ],
 "metadata": {
  "kernelspec": {
   "display_name": "Python 3 (ipykernel)",
   "language": "python",
   "name": "python3"
  },
  "language_info": {
   "codemirror_mode": {
    "name": "ipython",
    "version": 3
   },
   "file_extension": ".py",
   "mimetype": "text/x-python",
   "name": "python",
   "nbconvert_exporter": "python",
   "pygments_lexer": "ipython3",
   "version": "3.12.10"
  }
 },
 "nbformat": 4,
 "nbformat_minor": 5
}
